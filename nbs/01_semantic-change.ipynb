{
 "cells": [
  {
   "cell_type": "markdown",
   "metadata": {},
   "source": [
    "# Semantic Change"
   ]
  },
  {
   "cell_type": "code",
   "execution_count": null,
   "metadata": {},
   "outputs": [],
   "source": [
    "%load_ext autoreload\n",
    "%autoreload 2"
   ]
  },
  {
   "cell_type": "code",
   "execution_count": null,
   "metadata": {},
   "outputs": [],
   "source": [
    "#| default_exp semchange\n",
    "#| "
   ]
  },
  {
   "cell_type": "code",
   "execution_count": null,
   "metadata": {},
   "outputs": [
    {
     "name": "stderr",
     "output_type": "stream",
     "text": [
      "/var/folders/gp/dw55jb3d3gl6jn22rscvxjm40000gn/T/ipykernel_31121/575296176.py:3: DeprecationWarning: \n",
      "Pyarrow will become a required dependency of pandas in the next major release of pandas (pandas 3.0),\n",
      "(to allow more performant data types, such as the Arrow string type, and better interoperability with other libraries)\n",
      "but was not found to be installed on your system.\n",
      "If this would cause problems for you,\n",
      "please provide us feedback at https://github.com/pandas-dev/pandas/issues/54466\n",
      "        \n",
      "  import pandas as pd\n"
     ]
    }
   ],
   "source": [
    "#| export\n",
    "from pathlib import Path\n",
    "import pandas as pd"
   ]
  },
  {
   "cell_type": "markdown",
   "metadata": {},
   "source": [
    "## create test data"
   ]
  },
  {
   "cell_type": "code",
   "execution_count": null,
   "metadata": {},
   "outputs": [],
   "source": [
    "src_dir = Path('../../data')\n",
    "dest_dir = Path('../data_test')"
   ]
  },
  {
   "cell_type": "code",
   "execution_count": null,
   "metadata": {},
   "outputs": [
    {
     "data": {
      "application/vnd.jupyter.widget-view+json": {
       "model_id": "6b3544a69fda43f9a7e3d2146809b5f4",
       "version_major": 2,
       "version_minor": 0
      },
      "text/plain": [
       "  0%|          | 0/96 [00:00<?, ?it/s]"
      ]
     },
     "metadata": {},
     "output_type": "display_data"
    },
    {
     "data": {
      "application/vnd.jupyter.widget-view+json": {
       "model_id": "eab3fe8c5d904c37a19fd82c4760ea70",
       "version_major": 2,
       "version_minor": 0
      },
      "text/plain": [
       "  0%|          | 0/47 [00:00<?, ?it/s]"
      ]
     },
     "metadata": {},
     "output_type": "display_data"
    },
    {
     "data": {
      "application/vnd.jupyter.widget-view+json": {
       "model_id": "548bf387542a479f92373cf52caea9d7",
       "version_major": 2,
       "version_minor": 0
      },
      "text/plain": [
       "  0%|          | 0/20 [00:00<?, ?it/s]"
      ]
     },
     "metadata": {},
     "output_type": "display_data"
    }
   ],
   "source": [
    "#| notest\n",
    "\n",
    "from tqdm.notebook import tqdm\n",
    "\n",
    "n = 100\n",
    "\n",
    "for subdir in src_dir.rglob('*'):\n",
    "    if subdir.is_dir():\n",
    "        dest_subdir = dest_dir / subdir.relative_to(src_dir)\n",
    "        dest_subdir.mkdir(parents=True, exist_ok=True)\n",
    "        for file_path in tqdm(list(subdir.glob('*.csv'))):\n",
    "            df = pd.read_csv(file_path, on_bad_lines='skip', engine='python')\n",
    "            df_sample = df.sample(n=min(n, len(df)), random_state=58)\n",
    "            sample_file_path = dest_subdir / file_path.name\n",
    "            df_sample.to_csv(sample_file_path, index=False)"
   ]
  },
  {
   "cell_type": "markdown",
   "metadata": {},
   "source": [
    "## read data"
   ]
  },
  {
   "cell_type": "markdown",
   "metadata": {},
   "source": [
    "### get file paths"
   ]
  },
  {
   "cell_type": "code",
   "execution_count": null,
   "metadata": {},
   "outputs": [],
   "source": [
    "#| export\n",
    "def get_fpaths_year(year: str, dir='../data_test/years'): \n",
    "\tdir_path = Path(dir)\n",
    "\treturn list(dir_path.glob(f'{year}*.csv'))"
   ]
  },
  {
   "cell_type": "code",
   "execution_count": null,
   "metadata": {},
   "outputs": [
    {
     "data": {
      "text/plain": [
       "[PosixPath('../data_test/years/2020-04-14_21:20:57___2020-04-14_21:59:59.csv'),\n",
       " PosixPath('../data_test/years/2020-04-07_21:19:06___2020-04-07_21:59:59.csv'),\n",
       " PosixPath('../data_test/years/2020-06-14_21:19:36___2020-06-14_21:59:59.csv'),\n",
       " PosixPath('../data_test/years/2020-10-14_21:19:48___2020-10-14_21:59:59.csv'),\n",
       " PosixPath('../data_test/years/2020-06-07_21:19:08___2020-06-07_21:59:59.csv'),\n",
       " PosixPath('../data_test/years/2020-02-07_22:18:35___2020-02-07_22:59:59.csv'),\n",
       " PosixPath('../data_test/years/2020-07-14_21:22:47___2020-07-14_21:59:59.csv'),\n",
       " PosixPath('../data_test/years/2020-06-01_21:59:59___2020-06-01_21:22:24.csv'),\n",
       " PosixPath('../data_test/years/2020-09-19_21:14:30___2020-09-19_21:59:59.csv'),\n",
       " PosixPath('../data_test/years/2020-07-01_21:59:59___2020-07-01_21:23:38.csv'),\n",
       " PosixPath('../data_test/years/2020-10-19_14:18:54___2020-10-19_14:58:31.csv'),\n",
       " PosixPath('../data_test/years/2020-02-01_22:59:59___2020-02-01_22:07:59.csv'),\n",
       " PosixPath('../data_test/years/2020-08-14_21:23:04___2020-08-14_21:59:59.csv'),\n",
       " PosixPath('../data_test/years/2020-03-19_22:14:44___2020-03-19_22:59:59.csv'),\n",
       " PosixPath('../data_test/years/2020-11-01_22:59:59___2020-11-01_22:20:51.csv'),\n",
       " PosixPath('../data_test/years/2020-01-01_22:59:59___2020-01-01_22:13:27.csv'),\n",
       " PosixPath('../data_test/years/2020-07-19_21:19:00___2020-07-19_21:59:59.csv'),\n",
       " PosixPath('../data_test/years/2020-10-07_21:20:42___2020-10-07_21:59:59.csv'),\n",
       " PosixPath('../data_test/years/2020-08-01_21:59:59___2020-08-01_21:17:27.csv'),\n",
       " PosixPath('../data_test/years/2020-03-07_22:37:38___2020-03-07_22:59:59.csv'),\n",
       " PosixPath('../data_test/years/2020-05-14_21:22:43___2020-05-14_21:59:59.csv'),\n",
       " PosixPath('../data_test/years/2020-12-07_22:21:23___2020-12-07_22:59:59.csv'),\n",
       " PosixPath('../data_test/years/2020-03-14_22:09:26___2020-03-14_22:59:59.csv'),\n",
       " PosixPath('../data_test/years/2020-05-01_21:59:59___2020-05-01_21:19:50.csv'),\n",
       " PosixPath('../data_test/years/2020-01-19_22:39:11___2020-01-19_22:59:59.csv'),\n",
       " PosixPath('../data_test/years/2020-08-07_21:22:06___2020-08-07_21:59:59.csv'),\n",
       " PosixPath('../data_test/years/2020-09-07_21:19:15___2020-09-07_21:59:59.csv'),\n",
       " PosixPath('../data_test/years/2020-07-07_21:22:39___2020-07-07_21:59:59.csv'),\n",
       " PosixPath('../data_test/years/2020-04-19_21:17:49___2020-04-19_21:59:59.csv'),\n",
       " PosixPath('../data_test/years/2020-01-14_22:13:57___2020-01-14_22:59:59.csv'),\n",
       " PosixPath('../data_test/years/2020-11-19_22:27:49___2020-11-19_22:59:59.csv'),\n",
       " PosixPath('../data_test/years/2020-12-01_22:59:59___2020-12-01_22:22:27.csv'),\n",
       " PosixPath('../data_test/years/2020-05-07_21:22:03___2020-05-07_21:59:59.csv'),\n",
       " PosixPath('../data_test/years/2020-01-07_22:21:30___2020-01-07_22:59:59.csv'),\n",
       " PosixPath('../data_test/years/2020-11-07_22:19:48___2020-11-07_22:59:59.csv'),\n",
       " PosixPath('../data_test/years/2020-11-14_22:15:34___2020-11-14_22:59:59.csv'),\n",
       " PosixPath('../data_test/years/2020-09-14_21:31:19___2020-09-14_21:59:59.csv'),\n",
       " PosixPath('../data_test/years/2020-05-19_21:22:04___2020-05-19_21:59:59.csv'),\n",
       " PosixPath('../data_test/years/2020-09-01_21:59:59___2020-09-01_21:24:54.csv'),\n",
       " PosixPath('../data_test/years/2020-10-01_21:59:59___2020-10-01_21:20:26.csv'),\n",
       " PosixPath('../data_test/years/2020-12-19_22:29:40___2020-12-19_22:59:59.csv'),\n",
       " PosixPath('../data_test/years/2020-03-01_22:59:59___2020-03-01_22:11:57.csv'),\n",
       " PosixPath('../data_test/years/2020-04-01_21:59:59___2020-04-01_21:18:25.csv'),\n",
       " PosixPath('../data_test/years/2020-12-14_22:21:47___2020-12-14_22:59:59.csv'),\n",
       " PosixPath('../data_test/years/2020-02-14_22:23:09___2020-02-14_22:59:59.csv'),\n",
       " PosixPath('../data_test/years/2020-02-19_22:14:28___2020-02-19_22:59:59.csv'),\n",
       " PosixPath('../data_test/years/2020-06-19_21:18:29___2020-06-19_21:59:59.csv'),\n",
       " PosixPath('../data_test/years/2020-08-19_21:22:40___2020-08-19_21:59:59.csv')]"
      ]
     },
     "execution_count": null,
     "metadata": {},
     "output_type": "execute_result"
    }
   ],
   "source": [
    "get_fpaths_year('2020')"
   ]
  },
  {
   "cell_type": "code",
   "execution_count": null,
   "metadata": {},
   "outputs": [],
   "source": [
    "#| export\n",
    "def get_fpaths_subreddit(subreddit: str, dir='../data_test/subreddits'): \n",
    "\tdir_path = Path(dir)\n",
    "\treturn list(dir_path.glob(f'{subreddit}*.csv'))"
   ]
  },
  {
   "cell_type": "code",
   "execution_count": null,
   "metadata": {},
   "outputs": [
    {
     "data": {
      "text/plain": [
       "[PosixPath('../data_test/subreddits/conspiracy___2020-11-17_11:02:26___2020-11-27_22:59:54.csv'),\n",
       " PosixPath('../data_test/subreddits/conspiracy___2020-03-01_23:00:02___2020-03-09_22:59:59.csv'),\n",
       " PosixPath('../data_test/subreddits/conspiracy___2020-01-03_19:39:57___2020-01-27_22:59:58.csv'),\n",
       " PosixPath('../data_test/subreddits/conspiracy___2020-04-17_04:25:29___2020-04-27_21:59:55.csv'),\n",
       " PosixPath('../data_test/subreddits/conspiracy___2020-05-14_00:35:50___2020-05-27_21:59:58.csv'),\n",
       " PosixPath('../data_test/subreddits/conspiracy___2020-02-06_03:54:59___2020-02-27_22:59:57.csv'),\n",
       " PosixPath('../data_test/subreddits/conspiracy___2020-07-01_22:00:04___2020-07-09_21:59:58.csv'),\n",
       " PosixPath('../data_test/subreddits/conspiracy___2020-11-01_23:00:04___2020-11-09_22:59:56.csv'),\n",
       " PosixPath('../data_test/subreddits/conspiracy___2020-02-01_23:00:04___2020-02-09_22:59:55.csv'),\n",
       " PosixPath('../data_test/subreddits/conspiracy___2020-08-01_22:00:01___2020-08-09_21:59:56.csv'),\n",
       " PosixPath('../data_test/subreddits/conspiracy___2020-10-16_22:19:53___2020-10-27_22:59:46.csv'),\n",
       " PosixPath('../data_test/subreddits/conspiracy___2020-09-01_22:00:03___2020-09-09_21:59:56.csv'),\n",
       " PosixPath('../data_test/subreddits/conspiracy___2020-03-17_15:00:57___2020-03-27_22:59:52.csv'),\n",
       " PosixPath('../data_test/subreddits/conspiracy___2020-05-01_22:00:03___2020-05-09_21:59:48.csv'),\n",
       " PosixPath('../data_test/subreddits/conspiracy___2020-06-15_13:59:56___2020-06-27_21:59:55.csv'),\n",
       " PosixPath('../data_test/subreddits/conspiracy___2020-07-18_14:50:04___2020-07-27_21:59:59.csv'),\n",
       " PosixPath('../data_test/subreddits/conspiracy___2020-12-15_22:12:50___2020-12-27_22:59:52.csv'),\n",
       " PosixPath('../data_test/subreddits/conspiracy___2020-04-01_22:00:01___2020-04-09_21:59:49.csv'),\n",
       " PosixPath('../data_test/subreddits/conspiracy___2020-09-13_14:27:06___2020-09-27_21:59:59.csv'),\n",
       " PosixPath('../data_test/subreddits/conspiracy___2020-12-01_23:00:02___2020-12-09_22:59:59.csv'),\n",
       " PosixPath('../data_test/subreddits/conspiracy___2020-06-01_22:00:04___2020-06-09_21:59:54.csv'),\n",
       " PosixPath('../data_test/subreddits/conspiracy___2020-01-01_23:00:03___2020-01-09_22:59:54.csv'),\n",
       " PosixPath('../data_test/subreddits/conspiracy___2020-10-01_22:00:10___2020-10-09_21:59:57.csv'),\n",
       " PosixPath('../data_test/subreddits/conspiracy___2020-08-17_21:01:44___2020-08-27_21:59:57.csv')]"
      ]
     },
     "execution_count": null,
     "metadata": {},
     "output_type": "execute_result"
    }
   ],
   "source": [
    "get_fpaths_subreddit('conspiracy')"
   ]
  }
 ],
 "metadata": {
  "kernelspec": {
   "display_name": "python3",
   "language": "python",
   "name": "python3"
  }
 },
 "nbformat": 4,
 "nbformat_minor": 2
}
