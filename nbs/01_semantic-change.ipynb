{
 "cells": [
  {
   "cell_type": "markdown",
   "metadata": {},
   "source": [
    "# Semantic Change"
   ]
  },
  {
   "cell_type": "code",
   "execution_count": null,
   "metadata": {},
   "outputs": [],
   "source": [
    "#| default_exp semchange"
   ]
  },
  {
   "cell_type": "code",
   "execution_count": null,
   "metadata": {},
   "outputs": [],
   "source": [
    "from pathlib import Path"
   ]
  },
  {
   "cell_type": "code",
   "execution_count": null,
   "metadata": {},
   "outputs": [],
   "source": [
    "#| export\n",
    "def get_fpaths_year(year: str, dir='../../data/years'): \n",
    "\tdir_path = Path(dir)\n",
    "\treturn list(dir_path.glob(f'{year}*.csv'))"
   ]
  },
  {
   "cell_type": "code",
   "execution_count": null,
   "metadata": {},
   "outputs": [
    {
     "data": {
      "text/plain": [
       "[PosixPath('../../data/years/2020-04-14_21:20:57___2020-04-14_21:59:59.csv'),\n",
       " PosixPath('../../data/years/2020-04-07_21:19:06___2020-04-07_21:59:59.csv'),\n",
       " PosixPath('../../data/years/2020-06-14_21:19:36___2020-06-14_21:59:59.csv'),\n",
       " PosixPath('../../data/years/2020-10-14_21:19:48___2020-10-14_21:59:59.csv'),\n",
       " PosixPath('../../data/years/2020-06-07_21:19:08___2020-06-07_21:59:59.csv'),\n",
       " PosixPath('../../data/years/2020-02-07_22:18:35___2020-02-07_22:59:59.csv'),\n",
       " PosixPath('../../data/years/2020-07-14_21:22:47___2020-07-14_21:59:59.csv'),\n",
       " PosixPath('../../data/years/2020-06-01_21:59:59___2020-06-01_21:22:24.csv'),\n",
       " PosixPath('../../data/years/2020-09-19_21:14:30___2020-09-19_21:59:59.csv'),\n",
       " PosixPath('../../data/years/2020-07-01_21:59:59___2020-07-01_21:23:38.csv'),\n",
       " PosixPath('../../data/years/2020-10-19_14:18:54___2020-10-19_14:58:31.csv'),\n",
       " PosixPath('../../data/years/2020-02-01_22:59:59___2020-02-01_22:07:59.csv'),\n",
       " PosixPath('../../data/years/2020-08-14_21:23:04___2020-08-14_21:59:59.csv'),\n",
       " PosixPath('../../data/years/2020-03-19_22:14:44___2020-03-19_22:59:59.csv'),\n",
       " PosixPath('../../data/years/2020-11-01_22:59:59___2020-11-01_22:20:51.csv'),\n",
       " PosixPath('../../data/years/2020-01-01_22:59:59___2020-01-01_22:13:27.csv'),\n",
       " PosixPath('../../data/years/2020-07-19_21:19:00___2020-07-19_21:59:59.csv'),\n",
       " PosixPath('../../data/years/2020-10-07_21:20:42___2020-10-07_21:59:59.csv'),\n",
       " PosixPath('../../data/years/2020-08-01_21:59:59___2020-08-01_21:17:27.csv'),\n",
       " PosixPath('../../data/years/2020-03-07_22:37:38___2020-03-07_22:59:59.csv'),\n",
       " PosixPath('../../data/years/2020-05-14_21:22:43___2020-05-14_21:59:59.csv'),\n",
       " PosixPath('../../data/years/2020-12-07_22:21:23___2020-12-07_22:59:59.csv'),\n",
       " PosixPath('../../data/years/2020-03-14_22:09:26___2020-03-14_22:59:59.csv'),\n",
       " PosixPath('../../data/years/2020-05-01_21:59:59___2020-05-01_21:19:50.csv'),\n",
       " PosixPath('../../data/years/2020-01-19_22:39:11___2020-01-19_22:59:59.csv'),\n",
       " PosixPath('../../data/years/2020-08-07_21:22:06___2020-08-07_21:59:59.csv'),\n",
       " PosixPath('../../data/years/2020-09-07_21:19:15___2020-09-07_21:59:59.csv'),\n",
       " PosixPath('../../data/years/2020-07-07_21:22:39___2020-07-07_21:59:59.csv'),\n",
       " PosixPath('../../data/years/2020-04-19_21:17:49___2020-04-19_21:59:59.csv'),\n",
       " PosixPath('../../data/years/2020-01-14_22:13:57___2020-01-14_22:59:59.csv'),\n",
       " PosixPath('../../data/years/2020-11-19_22:27:49___2020-11-19_22:59:59.csv'),\n",
       " PosixPath('../../data/years/2020-12-01_22:59:59___2020-12-01_22:22:27.csv'),\n",
       " PosixPath('../../data/years/2020-05-07_21:22:03___2020-05-07_21:59:59.csv'),\n",
       " PosixPath('../../data/years/2020-01-07_22:21:30___2020-01-07_22:59:59.csv'),\n",
       " PosixPath('../../data/years/2020-11-07_22:19:48___2020-11-07_22:59:59.csv'),\n",
       " PosixPath('../../data/years/2020-11-14_22:15:34___2020-11-14_22:59:59.csv'),\n",
       " PosixPath('../../data/years/2020-09-14_21:31:19___2020-09-14_21:59:59.csv'),\n",
       " PosixPath('../../data/years/2020-05-19_21:22:04___2020-05-19_21:59:59.csv'),\n",
       " PosixPath('../../data/years/2020-09-01_21:59:59___2020-09-01_21:24:54.csv'),\n",
       " PosixPath('../../data/years/2020-10-01_21:59:59___2020-10-01_21:20:26.csv'),\n",
       " PosixPath('../../data/years/2020-12-19_22:29:40___2020-12-19_22:59:59.csv'),\n",
       " PosixPath('../../data/years/2020-03-01_22:59:59___2020-03-01_22:11:57.csv'),\n",
       " PosixPath('../../data/years/2020-04-01_21:59:59___2020-04-01_21:18:25.csv'),\n",
       " PosixPath('../../data/years/2020-12-14_22:21:47___2020-12-14_22:59:59.csv'),\n",
       " PosixPath('../../data/years/2020-02-14_22:23:09___2020-02-14_22:59:59.csv'),\n",
       " PosixPath('../../data/years/2020-02-19_22:14:28___2020-02-19_22:59:59.csv'),\n",
       " PosixPath('../../data/years/2020-06-19_21:18:29___2020-06-19_21:59:59.csv'),\n",
       " PosixPath('../../data/years/2020-08-19_21:22:40___2020-08-19_21:59:59.csv')]"
      ]
     },
     "execution_count": null,
     "metadata": {},
     "output_type": "execute_result"
    }
   ],
   "source": [
    "get_fpaths_year('2020')"
   ]
  },
  {
   "cell_type": "code",
   "execution_count": null,
   "metadata": {},
   "outputs": [],
   "source": [
    "#| export\n",
    "def get_fpaths_subreddit(subreddit: str, dir='../../data/subreddits'): \n",
    "\tdir_path = Path(dir)\n",
    "\treturn list(dir_path.glob(f'{subreddit}*.csv'))"
   ]
  },
  {
   "cell_type": "code",
   "execution_count": null,
   "metadata": {},
   "outputs": [
    {
     "data": {
      "text/plain": [
       "[PosixPath('../../data/subreddits/conspiracy___2020-11-17_11:02:26___2020-11-27_22:59:54.csv'),\n",
       " PosixPath('../../data/subreddits/conspiracy___2020-03-01_23:00:02___2020-03-09_22:59:59.csv'),\n",
       " PosixPath('../../data/subreddits/conspiracy___2020-01-03_19:39:57___2020-01-27_22:59:58.csv'),\n",
       " PosixPath('../../data/subreddits/conspiracy___2020-04-17_04:25:29___2020-04-27_21:59:55.csv'),\n",
       " PosixPath('../../data/subreddits/conspiracy___2020-05-14_00:35:50___2020-05-27_21:59:58.csv'),\n",
       " PosixPath('../../data/subreddits/conspiracy___2020-02-06_03:54:59___2020-02-27_22:59:57.csv'),\n",
       " PosixPath('../../data/subreddits/conspiracy___2020-07-01_22:00:04___2020-07-09_21:59:58.csv'),\n",
       " PosixPath('../../data/subreddits/conspiracy___2020-11-01_23:00:04___2020-11-09_22:59:56.csv'),\n",
       " PosixPath('../../data/subreddits/conspiracy___2020-02-01_23:00:04___2020-02-09_22:59:55.csv'),\n",
       " PosixPath('../../data/subreddits/conspiracy___2020-08-01_22:00:01___2020-08-09_21:59:56.csv'),\n",
       " PosixPath('../../data/subreddits/conspiracy___2020-10-16_22:19:53___2020-10-27_22:59:46.csv'),\n",
       " PosixPath('../../data/subreddits/conspiracy___2020-09-01_22:00:03___2020-09-09_21:59:56.csv'),\n",
       " PosixPath('../../data/subreddits/conspiracy___2020-03-17_15:00:57___2020-03-27_22:59:52.csv'),\n",
       " PosixPath('../../data/subreddits/conspiracy___2020-05-01_22:00:03___2020-05-09_21:59:48.csv'),\n",
       " PosixPath('../../data/subreddits/conspiracy___2020-06-15_13:59:56___2020-06-27_21:59:55.csv'),\n",
       " PosixPath('../../data/subreddits/conspiracy___2020-07-18_14:50:04___2020-07-27_21:59:59.csv'),\n",
       " PosixPath('../../data/subreddits/conspiracy___2020-12-15_22:12:50___2020-12-27_22:59:52.csv'),\n",
       " PosixPath('../../data/subreddits/conspiracy___2020-04-01_22:00:01___2020-04-09_21:59:49.csv'),\n",
       " PosixPath('../../data/subreddits/conspiracy___2020-09-13_14:27:06___2020-09-27_21:59:59.csv'),\n",
       " PosixPath('../../data/subreddits/conspiracy___2020-12-01_23:00:02___2020-12-09_22:59:59.csv'),\n",
       " PosixPath('../../data/subreddits/conspiracy___2020-06-01_22:00:04___2020-06-09_21:59:54.csv'),\n",
       " PosixPath('../../data/subreddits/conspiracy___2020-01-01_23:00:03___2020-01-09_22:59:54.csv'),\n",
       " PosixPath('../../data/subreddits/conspiracy___2020-10-01_22:00:10___2020-10-09_21:59:57.csv'),\n",
       " PosixPath('../../data/subreddits/conspiracy___2020-08-17_21:01:44___2020-08-27_21:59:57.csv')]"
      ]
     },
     "execution_count": null,
     "metadata": {},
     "output_type": "execute_result"
    }
   ],
   "source": [
    "get_fpaths_subreddit('conspiracy')"
   ]
  }
 ],
 "metadata": {
  "kernelspec": {
   "display_name": "python3",
   "language": "python",
   "name": "python3"
  }
 },
 "nbformat": 4,
 "nbformat_minor": 2
}
