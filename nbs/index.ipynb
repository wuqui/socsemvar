{
 "cells": [
  {
   "cell_type": "code",
   "execution_count": null,
   "metadata": {},
   "outputs": [],
   "source": [
    "#| hide\n",
    "from socsemvar.core import *"
   ]
  },
  {
   "cell_type": "code",
   "execution_count": null,
   "metadata": {},
   "outputs": [],
   "source": [
    "#| all_data"
   ]
  },
  {
   "cell_type": "code",
   "execution_count": null,
   "metadata": {},
   "outputs": [],
   "source": [
    "%load_ext autoreload\n",
    "%autoreload 2"
   ]
  },
  {
   "cell_type": "markdown",
   "metadata": {},
   "source": [
    "# socsemvar\n",
    "\n",
    "> Analysing semantic change and socio-semantic variation on Reddit."
   ]
  },
  {
   "cell_type": "markdown",
   "metadata": {},
   "source": [
    "This repository contains the code for the paper _Semantic change and socio-semantic variation. The case of Covid-related neologisms on Reddit_, published in the journal _Linguistics Vanguard_.\n",
    "\n",
    "You can clone the repository and install the code as a Python package named `socsemvar` by running `pip install .` within the cloned directory. This will automatically install all dependencies. As always, it is recommended to install this package in a virtual environment (e.g. using `conda`). \n",
    "\n",
    "The Reddit data used for this paper are too big to make them available here. Some parts of the code cannot be executed without having access to these datasets. The full datasets of Reddit comments and the models trained from these comments can be requested via email. The datasets and models allow to reproduce our results.\n",
    "\n",
    "This repository provides the code used to process the Reddit comments, train the models, and produce the results presented in our paper. The code was written and documented using the literate programming framework `nbdev` and the documentation is available here:\n",
    "\n",
    "<https://wuqui.github.io/socsemvar/>\n",
    "\n",
    "<!-- The code used for the tables and figures contained in the paper can be found directly via the following links:\n",
    "\n",
    "| Reference | Link                                                                           |\n",
    "|-----------|--------------------------------------------------------------------------------|\n",
    "| Table 2   | [semantic neologisms](https://wuqui.github.io/neocov/#semantic-neologisms)     |\n",
    "| Figure 1  | [Covid-related communities](https://wuqui.github.io/neocov/#covid-communities) |\n",
    "| Figure 2  | [Semantic axes](https://wuqui.github.io/neocov/#sem-axis)                      |\n",
    "| Figure 3  | [Semantic maps for _vaccines_](https://wuqui.github.io/neocov/#sem-maps)       | -->"
   ]
  }
 ],
 "metadata": {
  "kernelspec": {
   "display_name": "python3",
   "language": "python",
   "name": "python3"
  }
 },
 "nbformat": 4,
 "nbformat_minor": 4
}
