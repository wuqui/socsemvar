{
 "cells": [
  {
   "cell_type": "markdown",
   "metadata": {},
   "source": [
    "# read data"
   ]
  },
  {
   "cell_type": "code",
   "execution_count": null,
   "metadata": {},
   "outputs": [],
   "source": [
    "%load_ext autoreload\n",
    "%autoreload 2"
   ]
  },
  {
   "cell_type": "code",
   "execution_count": null,
   "metadata": {},
   "outputs": [],
   "source": [
    "#| default_exp read_data"
   ]
  },
  {
   "cell_type": "code",
   "execution_count": null,
   "metadata": {},
   "outputs": [
    {
     "name": "stderr",
     "output_type": "stream",
     "text": [
      "/var/folders/gp/dw55jb3d3gl6jn22rscvxjm40000gn/T/ipykernel_34450/575296176.py:3: DeprecationWarning: \n",
      "Pyarrow will become a required dependency of pandas in the next major release of pandas (pandas 3.0),\n",
      "(to allow more performant data types, such as the Arrow string type, and better interoperability with other libraries)\n",
      "but was not found to be installed on your system.\n",
      "If this would cause problems for you,\n",
      "please provide us feedback at https://github.com/pandas-dev/pandas/issues/54466\n",
      "        \n",
      "  import pandas as pd\n"
     ]
    }
   ],
   "source": [
    "#| export\n",
    "from pathlib import Path\n",
    "import pandas as pd"
   ]
  },
  {
   "cell_type": "markdown",
   "metadata": {},
   "source": [
    "## create test data"
   ]
  },
  {
   "cell_type": "markdown",
   "metadata": {},
   "source": [
    "This repository only contains a sample of the original data because of size constraints.\n",
    "Below, we create a sample of the original data."
   ]
  },
  {
   "cell_type": "code",
   "execution_count": null,
   "metadata": {},
   "outputs": [
    {
     "data": {
      "application/vnd.jupyter.widget-view+json": {
       "model_id": "6b3544a69fda43f9a7e3d2146809b5f4",
       "version_major": 2,
       "version_minor": 0
      },
      "text/plain": [
       "  0%|          | 0/96 [00:00<?, ?it/s]"
      ]
     },
     "metadata": {},
     "output_type": "display_data"
    },
    {
     "data": {
      "application/vnd.jupyter.widget-view+json": {
       "model_id": "eab3fe8c5d904c37a19fd82c4760ea70",
       "version_major": 2,
       "version_minor": 0
      },
      "text/plain": [
       "  0%|          | 0/47 [00:00<?, ?it/s]"
      ]
     },
     "metadata": {},
     "output_type": "display_data"
    },
    {
     "data": {
      "application/vnd.jupyter.widget-view+json": {
       "model_id": "548bf387542a479f92373cf52caea9d7",
       "version_major": 2,
       "version_minor": 0
      },
      "text/plain": [
       "  0%|          | 0/20 [00:00<?, ?it/s]"
      ]
     },
     "metadata": {},
     "output_type": "display_data"
    }
   ],
   "source": [
    "#| notest\n",
    "#| eval: false\n",
    "\n",
    "from tqdm.notebook import tqdm\n",
    "\n",
    "src_dir = Path('../../data')\n",
    "dest_dir = Path('../data_test')\n",
    "\n",
    "n = 100\n",
    "\n",
    "for subdir in src_dir.rglob('*'):\n",
    "    if subdir.is_dir():\n",
    "        dest_subdir = dest_dir / subdir.relative_to(src_dir)\n",
    "        dest_subdir.mkdir(parents=True, exist_ok=True)\n",
    "        for file_path in tqdm(list(subdir.glob('*.csv'))):\n",
    "            df = pd.read_csv(file_path, on_bad_lines='skip', engine='python')\n",
    "            df_sample = df.sample(n=min(n, len(df)), random_state=58)\n",
    "            sample_file_path = dest_subdir / file_path.name\n",
    "            df_sample.to_csv(sample_file_path, index=False)"
   ]
  },
  {
   "cell_type": "markdown",
   "metadata": {},
   "source": [
    "## read data"
   ]
  },
  {
   "cell_type": "markdown",
   "metadata": {},
   "source": [
    "### get file paths"
   ]
  },
  {
   "cell_type": "code",
   "execution_count": null,
   "metadata": {},
   "outputs": [],
   "source": [
    "#| export\n",
    "def get_fpaths_year(year: str, dir='../data_test/years'): \n",
    "\tdir_path = Path(dir)\n",
    "\treturn list(dir_path.glob(f'{year}*.csv'))"
   ]
  },
  {
   "cell_type": "code",
   "execution_count": null,
   "metadata": {},
   "outputs": [
    {
     "data": {
      "text/plain": [
       "[PosixPath('../data_test/years/2020-04-14_21:20:57___2020-04-14_21:59:59.csv'),\n",
       " PosixPath('../data_test/years/2020-04-07_21:19:06___2020-04-07_21:59:59.csv'),\n",
       " PosixPath('../data_test/years/2020-06-14_21:19:36___2020-06-14_21:59:59.csv'),\n",
       " PosixPath('../data_test/years/2020-10-14_21:19:48___2020-10-14_21:59:59.csv'),\n",
       " PosixPath('../data_test/years/2020-06-07_21:19:08___2020-06-07_21:59:59.csv'),\n",
       " PosixPath('../data_test/years/2020-02-07_22:18:35___2020-02-07_22:59:59.csv'),\n",
       " PosixPath('../data_test/years/2020-07-14_21:22:47___2020-07-14_21:59:59.csv'),\n",
       " PosixPath('../data_test/years/2020-06-01_21:59:59___2020-06-01_21:22:24.csv'),\n",
       " PosixPath('../data_test/years/2020-09-19_21:14:30___2020-09-19_21:59:59.csv'),\n",
       " PosixPath('../data_test/years/2020-07-01_21:59:59___2020-07-01_21:23:38.csv'),\n",
       " PosixPath('../data_test/years/2020-10-19_14:18:54___2020-10-19_14:58:31.csv'),\n",
       " PosixPath('../data_test/years/2020-02-01_22:59:59___2020-02-01_22:07:59.csv'),\n",
       " PosixPath('../data_test/years/2020-08-14_21:23:04___2020-08-14_21:59:59.csv'),\n",
       " PosixPath('../data_test/years/2020-03-19_22:14:44___2020-03-19_22:59:59.csv'),\n",
       " PosixPath('../data_test/years/2020-11-01_22:59:59___2020-11-01_22:20:51.csv'),\n",
       " PosixPath('../data_test/years/2020-01-01_22:59:59___2020-01-01_22:13:27.csv'),\n",
       " PosixPath('../data_test/years/2020-07-19_21:19:00___2020-07-19_21:59:59.csv'),\n",
       " PosixPath('../data_test/years/2020-10-07_21:20:42___2020-10-07_21:59:59.csv'),\n",
       " PosixPath('../data_test/years/2020-08-01_21:59:59___2020-08-01_21:17:27.csv'),\n",
       " PosixPath('../data_test/years/2020-03-07_22:37:38___2020-03-07_22:59:59.csv'),\n",
       " PosixPath('../data_test/years/2020-05-14_21:22:43___2020-05-14_21:59:59.csv'),\n",
       " PosixPath('../data_test/years/2020-12-07_22:21:23___2020-12-07_22:59:59.csv'),\n",
       " PosixPath('../data_test/years/2020-03-14_22:09:26___2020-03-14_22:59:59.csv'),\n",
       " PosixPath('../data_test/years/2020-05-01_21:59:59___2020-05-01_21:19:50.csv'),\n",
       " PosixPath('../data_test/years/2020-01-19_22:39:11___2020-01-19_22:59:59.csv'),\n",
       " PosixPath('../data_test/years/2020-08-07_21:22:06___2020-08-07_21:59:59.csv'),\n",
       " PosixPath('../data_test/years/2020-09-07_21:19:15___2020-09-07_21:59:59.csv'),\n",
       " PosixPath('../data_test/years/2020-07-07_21:22:39___2020-07-07_21:59:59.csv'),\n",
       " PosixPath('../data_test/years/2020-04-19_21:17:49___2020-04-19_21:59:59.csv'),\n",
       " PosixPath('../data_test/years/2020-01-14_22:13:57___2020-01-14_22:59:59.csv'),\n",
       " PosixPath('../data_test/years/2020-11-19_22:27:49___2020-11-19_22:59:59.csv'),\n",
       " PosixPath('../data_test/years/2020-12-01_22:59:59___2020-12-01_22:22:27.csv'),\n",
       " PosixPath('../data_test/years/2020-05-07_21:22:03___2020-05-07_21:59:59.csv'),\n",
       " PosixPath('../data_test/years/2020-01-07_22:21:30___2020-01-07_22:59:59.csv'),\n",
       " PosixPath('../data_test/years/2020-11-07_22:19:48___2020-11-07_22:59:59.csv'),\n",
       " PosixPath('../data_test/years/2020-11-14_22:15:34___2020-11-14_22:59:59.csv'),\n",
       " PosixPath('../data_test/years/2020-09-14_21:31:19___2020-09-14_21:59:59.csv'),\n",
       " PosixPath('../data_test/years/2020-05-19_21:22:04___2020-05-19_21:59:59.csv'),\n",
       " PosixPath('../data_test/years/2020-09-01_21:59:59___2020-09-01_21:24:54.csv'),\n",
       " PosixPath('../data_test/years/2020-10-01_21:59:59___2020-10-01_21:20:26.csv'),\n",
       " PosixPath('../data_test/years/2020-12-19_22:29:40___2020-12-19_22:59:59.csv'),\n",
       " PosixPath('../data_test/years/2020-03-01_22:59:59___2020-03-01_22:11:57.csv'),\n",
       " PosixPath('../data_test/years/2020-04-01_21:59:59___2020-04-01_21:18:25.csv'),\n",
       " PosixPath('../data_test/years/2020-12-14_22:21:47___2020-12-14_22:59:59.csv'),\n",
       " PosixPath('../data_test/years/2020-02-14_22:23:09___2020-02-14_22:59:59.csv'),\n",
       " PosixPath('../data_test/years/2020-02-19_22:14:28___2020-02-19_22:59:59.csv'),\n",
       " PosixPath('../data_test/years/2020-06-19_21:18:29___2020-06-19_21:59:59.csv'),\n",
       " PosixPath('../data_test/years/2020-08-19_21:22:40___2020-08-19_21:59:59.csv')]"
      ]
     },
     "execution_count": null,
     "metadata": {},
     "output_type": "execute_result"
    }
   ],
   "source": [
    "get_fpaths_year('2020')"
   ]
  },
  {
   "cell_type": "code",
   "execution_count": null,
   "metadata": {},
   "outputs": [],
   "source": [
    "#| export\n",
    "def get_fpaths_subreddit(subreddit: str, dir='../data_test/subreddits'): \n",
    "\tdir_path = Path(dir)\n",
    "\treturn list(dir_path.glob(f'{subreddit}*.csv'))"
   ]
  },
  {
   "cell_type": "code",
   "execution_count": null,
   "metadata": {},
   "outputs": [
    {
     "data": {
      "text/plain": [
       "[PosixPath('../data_test/subreddits/conspiracy___2020-11-17_11:02:26___2020-11-27_22:59:54.csv'),\n",
       " PosixPath('../data_test/subreddits/conspiracy___2020-03-01_23:00:02___2020-03-09_22:59:59.csv'),\n",
       " PosixPath('../data_test/subreddits/conspiracy___2020-01-03_19:39:57___2020-01-27_22:59:58.csv'),\n",
       " PosixPath('../data_test/subreddits/conspiracy___2020-04-17_04:25:29___2020-04-27_21:59:55.csv'),\n",
       " PosixPath('../data_test/subreddits/conspiracy___2020-05-14_00:35:50___2020-05-27_21:59:58.csv'),\n",
       " PosixPath('../data_test/subreddits/conspiracy___2020-02-06_03:54:59___2020-02-27_22:59:57.csv'),\n",
       " PosixPath('../data_test/subreddits/conspiracy___2020-07-01_22:00:04___2020-07-09_21:59:58.csv'),\n",
       " PosixPath('../data_test/subreddits/conspiracy___2020-11-01_23:00:04___2020-11-09_22:59:56.csv'),\n",
       " PosixPath('../data_test/subreddits/conspiracy___2020-02-01_23:00:04___2020-02-09_22:59:55.csv'),\n",
       " PosixPath('../data_test/subreddits/conspiracy___2020-08-01_22:00:01___2020-08-09_21:59:56.csv'),\n",
       " PosixPath('../data_test/subreddits/conspiracy___2020-10-16_22:19:53___2020-10-27_22:59:46.csv'),\n",
       " PosixPath('../data_test/subreddits/conspiracy___2020-09-01_22:00:03___2020-09-09_21:59:56.csv'),\n",
       " PosixPath('../data_test/subreddits/conspiracy___2020-03-17_15:00:57___2020-03-27_22:59:52.csv'),\n",
       " PosixPath('../data_test/subreddits/conspiracy___2020-05-01_22:00:03___2020-05-09_21:59:48.csv'),\n",
       " PosixPath('../data_test/subreddits/conspiracy___2020-06-15_13:59:56___2020-06-27_21:59:55.csv'),\n",
       " PosixPath('../data_test/subreddits/conspiracy___2020-07-18_14:50:04___2020-07-27_21:59:59.csv'),\n",
       " PosixPath('../data_test/subreddits/conspiracy___2020-12-15_22:12:50___2020-12-27_22:59:52.csv'),\n",
       " PosixPath('../data_test/subreddits/conspiracy___2020-04-01_22:00:01___2020-04-09_21:59:49.csv'),\n",
       " PosixPath('../data_test/subreddits/conspiracy___2020-09-13_14:27:06___2020-09-27_21:59:59.csv'),\n",
       " PosixPath('../data_test/subreddits/conspiracy___2020-12-01_23:00:02___2020-12-09_22:59:59.csv'),\n",
       " PosixPath('../data_test/subreddits/conspiracy___2020-06-01_22:00:04___2020-06-09_21:59:54.csv'),\n",
       " PosixPath('../data_test/subreddits/conspiracy___2020-01-01_23:00:03___2020-01-09_22:59:54.csv'),\n",
       " PosixPath('../data_test/subreddits/conspiracy___2020-10-01_22:00:10___2020-10-09_21:59:57.csv'),\n",
       " PosixPath('../data_test/subreddits/conspiracy___2020-08-17_21:01:44___2020-08-27_21:59:57.csv')]"
      ]
     },
     "execution_count": null,
     "metadata": {},
     "output_type": "execute_result"
    }
   ],
   "source": [
    "get_fpaths_subreddit('conspiracy')"
   ]
  },
  {
   "cell_type": "markdown",
   "metadata": {},
   "source": [
    "### read comments"
   ]
  },
  {
   "cell_type": "markdown",
   "metadata": {},
   "source": [
    "#### read a single `csv` file of comments"
   ]
  },
  {
   "cell_type": "code",
   "execution_count": null,
   "metadata": {},
   "outputs": [],
   "source": [
    "fpath = get_fpaths_year('2019')[0]"
   ]
  },
  {
   "cell_type": "code",
   "execution_count": null,
   "metadata": {},
   "outputs": [],
   "source": [
    "#| export\n",
    "def read_one_comments_csv(fpath):\n",
    "    try:\n",
    "        comments = pd.read_csv(\n",
    "            fpath,\n",
    "            usecols=['id', 'created_utc', 'author', 'subreddit', 'body'],\n",
    "            dtype={\n",
    "                'id': 'string',\n",
    "                'author': 'string',\n",
    "                'subreddit': 'string',\n",
    "                'body': 'string'\n",
    "            },\n",
    "            parse_dates=['created_utc'],\n",
    "            low_memory=False,\n",
    "            lineterminator='\\n'\n",
    "        )\n",
    "        comments_clean = comments\\\n",
    "            .dropna()\\\n",
    "            .drop_duplicates(subset='id')\n",
    "        return comments_clean\n",
    "    except FileNotFoundError:\n",
    "        print(f'{fpath} not found on disk')\n",
    "    except pd.errors.EmptyDataError:\n",
    "        print(f'{fpath} is empty')"
   ]
  },
  {
   "cell_type": "code",
   "execution_count": null,
   "metadata": {},
   "outputs": [
    {
     "data": {
      "text/html": [
       "<div>\n",
       "<style scoped>\n",
       "    .dataframe tbody tr th:only-of-type {\n",
       "        vertical-align: middle;\n",
       "    }\n",
       "\n",
       "    .dataframe tbody tr th {\n",
       "        vertical-align: top;\n",
       "    }\n",
       "\n",
       "    .dataframe thead th {\n",
       "        text-align: right;\n",
       "    }\n",
       "</style>\n",
       "<table border=\"1\" class=\"dataframe\">\n",
       "  <thead>\n",
       "    <tr style=\"text-align: right;\">\n",
       "      <th></th>\n",
       "      <th>author</th>\n",
       "      <th>body</th>\n",
       "      <th>created_utc</th>\n",
       "      <th>id</th>\n",
       "      <th>subreddit</th>\n",
       "    </tr>\n",
       "  </thead>\n",
       "  <tbody>\n",
       "    <tr>\n",
       "      <th>0</th>\n",
       "      <td>lilfooty</td>\n",
       "      <td>This'll hurt them more than the loss</td>\n",
       "      <td>2019-05-07 21:55:57</td>\n",
       "      <td>emrz5jp</td>\n",
       "      <td>soccer</td>\n",
       "    </tr>\n",
       "    <tr>\n",
       "      <th>1</th>\n",
       "      <td>Kaeneko</td>\n",
       "      <td>I loved vampires *so* much, lol. Always fantas...</td>\n",
       "      <td>2019-05-07 21:34:12</td>\n",
       "      <td>emrx5eq</td>\n",
       "      <td>BDSMcommunity</td>\n",
       "    </tr>\n",
       "    <tr>\n",
       "      <th>2</th>\n",
       "      <td>Les_Deplorables</td>\n",
       "      <td>Poor Zombies gonna starve. No Brains!</td>\n",
       "      <td>2019-05-07 21:21:11</td>\n",
       "      <td>emrvxjq</td>\n",
       "      <td>The_Donald</td>\n",
       "    </tr>\n",
       "    <tr>\n",
       "      <th>3</th>\n",
       "      <td>viper2544</td>\n",
       "      <td>No one is going to mention the $12 shipping?</td>\n",
       "      <td>2019-05-07 21:56:45</td>\n",
       "      <td>emrz8g7</td>\n",
       "      <td>legostarwars</td>\n",
       "    </tr>\n",
       "    <tr>\n",
       "      <th>4</th>\n",
       "      <td>ninjasquirrelarmy</td>\n",
       "      <td>Agreed.  I showed my stylist the Phoenix hair ...</td>\n",
       "      <td>2019-05-07 21:34:43</td>\n",
       "      <td>emrx730</td>\n",
       "      <td>Instagramreality</td>\n",
       "    </tr>\n",
       "    <tr>\n",
       "      <th>...</th>\n",
       "      <td>...</td>\n",
       "      <td>...</td>\n",
       "      <td>...</td>\n",
       "      <td>...</td>\n",
       "      <td>...</td>\n",
       "    </tr>\n",
       "    <tr>\n",
       "      <th>95</th>\n",
       "      <td>kleptominotaur</td>\n",
       "      <td>Is tj still a muscle pharm dude? or parm? what...</td>\n",
       "      <td>2019-05-07 21:35:05</td>\n",
       "      <td>emrx88m</td>\n",
       "      <td>MMA</td>\n",
       "    </tr>\n",
       "    <tr>\n",
       "      <th>96</th>\n",
       "      <td>bonesstackedonfloor</td>\n",
       "      <td>Fidgeting</td>\n",
       "      <td>2019-05-07 21:45:27</td>\n",
       "      <td>emry5y5</td>\n",
       "      <td>AskReddit</td>\n",
       "    </tr>\n",
       "    <tr>\n",
       "      <th>97</th>\n",
       "      <td>Perfectoi</td>\n",
       "      <td>Imagine thinking EV will be sacked. Friendly r...</td>\n",
       "      <td>2019-05-07 21:18:06</td>\n",
       "      <td>emrvmx0</td>\n",
       "      <td>Barca</td>\n",
       "    </tr>\n",
       "    <tr>\n",
       "      <th>98</th>\n",
       "      <td>BB-Zwei</td>\n",
       "      <td>And Dumbo.</td>\n",
       "      <td>2019-05-07 21:51:35</td>\n",
       "      <td>emryq8t</td>\n",
       "      <td>movies</td>\n",
       "    </tr>\n",
       "    <tr>\n",
       "      <th>99</th>\n",
       "      <td>Thomas2PP</td>\n",
       "      <td>How did he got it???</td>\n",
       "      <td>2019-05-07 21:15:42</td>\n",
       "      <td>emrveqf</td>\n",
       "      <td>hearthstone</td>\n",
       "    </tr>\n",
       "  </tbody>\n",
       "</table>\n",
       "<p>100 rows × 5 columns</p>\n",
       "</div>"
      ],
      "text/plain": [
       "                 author                                               body  \\\n",
       "0              lilfooty               This'll hurt them more than the loss   \n",
       "1               Kaeneko  I loved vampires *so* much, lol. Always fantas...   \n",
       "2       Les_Deplorables              Poor Zombies gonna starve. No Brains!   \n",
       "3             viper2544       No one is going to mention the $12 shipping?   \n",
       "4     ninjasquirrelarmy  Agreed.  I showed my stylist the Phoenix hair ...   \n",
       "..                  ...                                                ...   \n",
       "95       kleptominotaur  Is tj still a muscle pharm dude? or parm? what...   \n",
       "96  bonesstackedonfloor                                          Fidgeting   \n",
       "97            Perfectoi  Imagine thinking EV will be sacked. Friendly r...   \n",
       "98              BB-Zwei                                         And Dumbo.   \n",
       "99            Thomas2PP                               How did he got it???   \n",
       "\n",
       "           created_utc       id         subreddit  \n",
       "0  2019-05-07 21:55:57  emrz5jp            soccer  \n",
       "1  2019-05-07 21:34:12  emrx5eq     BDSMcommunity  \n",
       "2  2019-05-07 21:21:11  emrvxjq        The_Donald  \n",
       "3  2019-05-07 21:56:45  emrz8g7      legostarwars  \n",
       "4  2019-05-07 21:34:43  emrx730  Instagramreality  \n",
       "..                 ...      ...               ...  \n",
       "95 2019-05-07 21:35:05  emrx88m               MMA  \n",
       "96 2019-05-07 21:45:27  emry5y5         AskReddit  \n",
       "97 2019-05-07 21:18:06  emrvmx0             Barca  \n",
       "98 2019-05-07 21:51:35  emryq8t            movies  \n",
       "99 2019-05-07 21:15:42  emrveqf       hearthstone  \n",
       "\n",
       "[100 rows x 5 columns]"
      ]
     },
     "execution_count": null,
     "metadata": {},
     "output_type": "execute_result"
    }
   ],
   "source": [
    "read_one_comments_csv(fpath)"
   ]
  },
  {
   "cell_type": "markdown",
   "metadata": {},
   "source": [
    "#### read multiple `csv` files with comments"
   ]
  },
  {
   "cell_type": "code",
   "execution_count": null,
   "metadata": {},
   "outputs": [],
   "source": [
    "#| export\n",
    "def read_multi_comments_csvs(fpaths: list):\n",
    "    comments_lst = []\n",
    "    for fpath in fpaths:\n",
    "        comments = read_one_comments_csv(fpath)\n",
    "        comments_lst.append(comments)\n",
    "    comments_concat = pd.concat(\n",
    "        comments_lst,\n",
    "        axis=0,\n",
    "        ignore_index=True\n",
    "    )\n",
    "    return comments_concat"
   ]
  },
  {
   "cell_type": "code",
   "execution_count": null,
   "metadata": {},
   "outputs": [],
   "source": [
    "fpaths = get_fpaths_year('2019')"
   ]
  },
  {
   "cell_type": "code",
   "execution_count": null,
   "metadata": {},
   "outputs": [
    {
     "data": {
      "text/html": [
       "<div>\n",
       "<style scoped>\n",
       "    .dataframe tbody tr th:only-of-type {\n",
       "        vertical-align: middle;\n",
       "    }\n",
       "\n",
       "    .dataframe tbody tr th {\n",
       "        vertical-align: top;\n",
       "    }\n",
       "\n",
       "    .dataframe thead th {\n",
       "        text-align: right;\n",
       "    }\n",
       "</style>\n",
       "<table border=\"1\" class=\"dataframe\">\n",
       "  <thead>\n",
       "    <tr style=\"text-align: right;\">\n",
       "      <th></th>\n",
       "      <th>author</th>\n",
       "      <th>body</th>\n",
       "      <th>created_utc</th>\n",
       "      <th>id</th>\n",
       "      <th>subreddit</th>\n",
       "    </tr>\n",
       "  </thead>\n",
       "  <tbody>\n",
       "    <tr>\n",
       "      <th>0</th>\n",
       "      <td>lilfooty</td>\n",
       "      <td>This'll hurt them more than the loss</td>\n",
       "      <td>2019-05-07 21:55:57</td>\n",
       "      <td>emrz5jp</td>\n",
       "      <td>soccer</td>\n",
       "    </tr>\n",
       "    <tr>\n",
       "      <th>1</th>\n",
       "      <td>Kaeneko</td>\n",
       "      <td>I loved vampires *so* much, lol. Always fantas...</td>\n",
       "      <td>2019-05-07 21:34:12</td>\n",
       "      <td>emrx5eq</td>\n",
       "      <td>BDSMcommunity</td>\n",
       "    </tr>\n",
       "    <tr>\n",
       "      <th>2</th>\n",
       "      <td>Les_Deplorables</td>\n",
       "      <td>Poor Zombies gonna starve. No Brains!</td>\n",
       "      <td>2019-05-07 21:21:11</td>\n",
       "      <td>emrvxjq</td>\n",
       "      <td>The_Donald</td>\n",
       "    </tr>\n",
       "    <tr>\n",
       "      <th>3</th>\n",
       "      <td>viper2544</td>\n",
       "      <td>No one is going to mention the $12 shipping?</td>\n",
       "      <td>2019-05-07 21:56:45</td>\n",
       "      <td>emrz8g7</td>\n",
       "      <td>legostarwars</td>\n",
       "    </tr>\n",
       "    <tr>\n",
       "      <th>4</th>\n",
       "      <td>ninjasquirrelarmy</td>\n",
       "      <td>Agreed.  I showed my stylist the Phoenix hair ...</td>\n",
       "      <td>2019-05-07 21:34:43</td>\n",
       "      <td>emrx730</td>\n",
       "      <td>Instagramreality</td>\n",
       "    </tr>\n",
       "    <tr>\n",
       "      <th>...</th>\n",
       "      <td>...</td>\n",
       "      <td>...</td>\n",
       "      <td>...</td>\n",
       "      <td>...</td>\n",
       "      <td>...</td>\n",
       "    </tr>\n",
       "    <tr>\n",
       "      <th>4794</th>\n",
       "      <td>m00sedad</td>\n",
       "      <td>Donald Fucking Trump</td>\n",
       "      <td>2019-06-19 21:12:28</td>\n",
       "      <td>erl5gls</td>\n",
       "      <td>AskReddit</td>\n",
       "    </tr>\n",
       "    <tr>\n",
       "      <th>4795</th>\n",
       "      <td>Abramabundiz</td>\n",
       "      <td>obviously the office or parks, or maybe a spin...</td>\n",
       "      <td>2019-06-19 21:35:15</td>\n",
       "      <td>erl7gic</td>\n",
       "      <td>AskReddit</td>\n",
       "    </tr>\n",
       "    <tr>\n",
       "      <th>4796</th>\n",
       "      <td>StarrySkye3</td>\n",
       "      <td>That sounds like someone who argues that other...</td>\n",
       "      <td>2019-06-19 21:33:57</td>\n",
       "      <td>erl7ccj</td>\n",
       "      <td>otherkin</td>\n",
       "    </tr>\n",
       "    <tr>\n",
       "      <th>4797</th>\n",
       "      <td>mostoriginalusername</td>\n",
       "      <td>I hadn't heard about that one.  :)</td>\n",
       "      <td>2019-06-19 21:41:22</td>\n",
       "      <td>erl7zzj</td>\n",
       "      <td>catsareliquid</td>\n",
       "    </tr>\n",
       "    <tr>\n",
       "      <th>4798</th>\n",
       "      <td>ggkiyo</td>\n",
       "      <td>I won't lie, I was someone who said that dota ...</td>\n",
       "      <td>2019-06-19 21:54:45</td>\n",
       "      <td>erl96fb</td>\n",
       "      <td>Games</td>\n",
       "    </tr>\n",
       "  </tbody>\n",
       "</table>\n",
       "<p>4799 rows × 5 columns</p>\n",
       "</div>"
      ],
      "text/plain": [
       "                    author                                               body  \\\n",
       "0                 lilfooty               This'll hurt them more than the loss   \n",
       "1                  Kaeneko  I loved vampires *so* much, lol. Always fantas...   \n",
       "2          Les_Deplorables              Poor Zombies gonna starve. No Brains!   \n",
       "3                viper2544       No one is going to mention the $12 shipping?   \n",
       "4        ninjasquirrelarmy  Agreed.  I showed my stylist the Phoenix hair ...   \n",
       "...                    ...                                                ...   \n",
       "4794              m00sedad                               Donald Fucking Trump   \n",
       "4795          Abramabundiz  obviously the office or parks, or maybe a spin...   \n",
       "4796           StarrySkye3  That sounds like someone who argues that other...   \n",
       "4797  mostoriginalusername                 I hadn't heard about that one.  :)   \n",
       "4798                ggkiyo  I won't lie, I was someone who said that dota ...   \n",
       "\n",
       "             created_utc       id         subreddit  \n",
       "0    2019-05-07 21:55:57  emrz5jp            soccer  \n",
       "1    2019-05-07 21:34:12  emrx5eq     BDSMcommunity  \n",
       "2    2019-05-07 21:21:11  emrvxjq        The_Donald  \n",
       "3    2019-05-07 21:56:45  emrz8g7      legostarwars  \n",
       "4    2019-05-07 21:34:43  emrx730  Instagramreality  \n",
       "...                  ...      ...               ...  \n",
       "4794 2019-06-19 21:12:28  erl5gls         AskReddit  \n",
       "4795 2019-06-19 21:35:15  erl7gic         AskReddit  \n",
       "4796 2019-06-19 21:33:57  erl7ccj          otherkin  \n",
       "4797 2019-06-19 21:41:22  erl7zzj     catsareliquid  \n",
       "4798 2019-06-19 21:54:45  erl96fb             Games  \n",
       "\n",
       "[4799 rows x 5 columns]"
      ]
     },
     "execution_count": null,
     "metadata": {},
     "output_type": "execute_result"
    }
   ],
   "source": [
    "read_multi_comments_csvs(fpaths)"
   ]
  }
 ],
 "metadata": {
  "kernelspec": {
   "display_name": "python3",
   "language": "python",
   "name": "python3"
  }
 },
 "nbformat": 4,
 "nbformat_minor": 2
}
